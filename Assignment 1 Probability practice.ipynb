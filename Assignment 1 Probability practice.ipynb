{
 "cells": [
  {
   "cell_type": "markdown",
   "id": "a10e5d53-1c93-44d1-b8a9-b3092b747702",
   "metadata": {},
   "source": [
    "## Part A. \n",
    "Visitors to your website are asked to answer a single survey question before they get access to the content on the page. Among all of the users, there are two categories: Random Clicker (RC), and Truthful Clicker (TC). There are two possible answers to the survey: yes and no. Random clickers would click either one with equal probability. You are also giving the information that the expected fraction of random clickers is 0.3. After a trial period, you get the following survey results: 65% said Yes and 35% said No. What fraction of people who are truthful clickers answered yes? Hint: use the rule of total probability."
   ]
  },
  {
   "cell_type": "code",
   "execution_count": 1,
   "id": "62595045-d6c9-438c-a376-b83c51062ca0",
   "metadata": {},
   "outputs": [
    {
     "name": "stdout",
     "output_type": "stream",
     "text": [
      "The fraction of truthful clickers who answered Yes is approximately: 71.43%\n"
     ]
    }
   ],
   "source": [
    "# Given values\n",
    "P_RC = 0.3  # Probability of being a Random Clicker\n",
    "P_TC = 1 - P_RC  # Probability of being a Truthful Clicker\n",
    "P_Yes = 0.65  # Overall probability of answering \"Yes\"\n",
    "P_Yes_given_RC = 0.5  # Probability of answering \"Yes\" given Random Clicker\n",
    "\n",
    "# Calculate the fraction of truthful clickers who answered yes\n",
    "p_TC_yes = (P_Yes - P_Yes_given_RC * P_RC) / P_TC\n",
    "\n",
    "# Print the result\n",
    "print(f\"The fraction of truthful clickers who answered Yes is approximately: {p_TC_yes * 100:.2f}%\")"
   ]
  },
  {
   "cell_type": "markdown",
   "id": "b1f843ff-a630-400d-ab7a-94037f84b426",
   "metadata": {},
   "source": [
    "## Part B. Imagine a medical test for a disease with the following two attributes:\n",
    "The sensitivity is about 0.993. That is, if someone has the disease, there is a probability of 0.993 that they will test positive.\n",
    "The specificity is about 0.9999. This means that if someone doesn't have the disease, there is probability of 0.9999 that they will test negative.In the general population, incidence of the disease is reasonably rare: about 0.0025% of all people have it (or 0.000025 as a decimal probability).\n",
    "\n",
    "Suppose someone tests positive. What is the probability that they have the disease?"
   ]
  },
  {
   "cell_type": "code",
   "execution_count": 7,
   "id": "40220c52-7ded-4ce2-9366-632cfd5693b8",
   "metadata": {},
   "outputs": [
    {
     "name": "stdout",
     "output_type": "stream",
     "text": [
      "The probability that someone who tested positive has the disease is approximately: 19.89%\n"
     ]
    }
   ],
   "source": [
    "# Given values\n",
    "sensitivity = 0.993\n",
    "specificity = 0.9999\n",
    "P_disease = 0.000025  # Incidence rate of the disease\n",
    "\n",
    "# Probability of testing positive given the disease\n",
    "P_positive_given_disease = sensitivity\n",
    "\n",
    "# Probability of testing positive given no disease\n",
    "P_positive_given_no_disease = 1 - specificity\n",
    "\n",
    "# Probability of not having the disease\n",
    "P_no_disease = 1 - P_disease\n",
    "\n",
    "# Total probability of testing positive\n",
    "P_positive = (P_positive_given_disease * P_disease) + (P_positive_given_no_disease * P_no_disease)\n",
    "\n",
    "# Using Bayes' theorem to calculate the probability of having the disease given a positive test result\n",
    "P_disease_given_positive = (P_positive_given_disease * P_disease) / P_positive\n",
    "\n",
    "# Print the result\n",
    "print(f\"The probability that someone who tested positive has the disease is approximately: {P_disease_given_positive * 100:.2f}%\")"
   ]
  }
 ],
 "metadata": {
  "kernelspec": {
   "display_name": "Python 3 (ipykernel)",
   "language": "python",
   "name": "python3"
  },
  "language_info": {
   "codemirror_mode": {
    "name": "ipython",
    "version": 3
   },
   "file_extension": ".py",
   "mimetype": "text/x-python",
   "name": "python",
   "nbconvert_exporter": "python",
   "pygments_lexer": "ipython3",
   "version": "3.12.4"
  }
 },
 "nbformat": 4,
 "nbformat_minor": 5
}
